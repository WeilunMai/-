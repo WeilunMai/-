{
 "cells": [
  {
   "cell_type": "code",
   "execution_count": 31,
   "metadata": {},
   "outputs": [],
   "source": [
    "#我们现有红色，粉色，橙色的宝石，我们希望能抽中绿色的宝石 ['red','pink','orange']\n",
    "#盲盒里有如下的数量宝石 ['pink','blue','orange','orange','red','yellow','red','pink','red', 'green','yellow']\n",
    "#random.choice()可以实现从数据里随机抽取的功能"
   ]
  },
  {
   "cell_type": "code",
   "execution_count": 46,
   "metadata": {},
   "outputs": [],
   "source": [
    "import random\n",
    "collection = ['red','pink','orange']\n",
    "secret_bag = ['pink','blue','orange','orange','red','yellow','red','pink','red', 'green','yellow']"
   ]
  },
  {
   "cell_type": "code",
   "execution_count": 47,
   "metadata": {},
   "outputs": [],
   "source": [
    "chosen = []\n",
    "tries_remaining = 5"
   ]
  },
  {
   "cell_type": "code",
   "execution_count": 48,
   "metadata": {},
   "outputs": [
    {
     "name": "stdout",
     "output_type": "stream",
     "text": [
      "congratulations!\n",
      "['blue', 'green']\n",
      "['red', 'pink', 'orange', 'green']\n"
     ]
    }
   ],
   "source": [
    "for x in range(6):\n",
    "    if tries_remaining > 0:\n",
    "        selection = random.choice(secret_bag)\n",
    "        chosen.append(selection)\n",
    "        tries_remaining = tries_remaining -1\n",
    "        if selection == 'green':\n",
    "            collection.append(selection)\n",
    "            print('congratulations!')\n",
    "            break\n",
    "    else:\n",
    "        print('sorry. Please come back again!')\n",
    "print(chosen)\n",
    "print(collection)"
   ]
  },
  {
   "cell_type": "code",
   "execution_count": null,
   "metadata": {},
   "outputs": [],
   "source": []
  },
  {
   "cell_type": "code",
   "execution_count": null,
   "metadata": {},
   "outputs": [],
   "source": []
  }
 ],
 "metadata": {
  "kernelspec": {
   "display_name": "Python 3",
   "language": "python",
   "name": "python3"
  },
  "language_info": {
   "codemirror_mode": {
    "name": "ipython",
    "version": 3
   },
   "file_extension": ".py",
   "mimetype": "text/x-python",
   "name": "python",
   "nbconvert_exporter": "python",
   "pygments_lexer": "ipython3",
   "version": "3.8.5"
  }
 },
 "nbformat": 4,
 "nbformat_minor": 4
}
